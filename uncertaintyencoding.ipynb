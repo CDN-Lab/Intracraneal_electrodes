{
 "cells": [
  {
   "attachments": {},
   "cell_type": "markdown",
   "metadata": {},
   "source": [
    "# Choice Set space for Neural Data\n",
    "\n",
    " The idea is to create a choice set that: samples the same SV difference (+ - some variation) with different trials  "
   ]
  },
  {
   "cell_type": "code",
   "execution_count": 2,
   "metadata": {},
   "outputs": [],
   "source": [
    "#Import the relevant libraries\n",
    "import pandas as pd\n",
    "import os\n",
    "import matplotlib.pyplot as plt\n",
    "import numpy as np\n",
    "pd.options.display.max_rows = 999"
   ]
  },
  {
   "attachments": {},
   "cell_type": "markdown",
   "metadata": {},
   "source": [
    "# 1. Input: patient's alpha and beta parameters"
   ]
  },
  {
   "cell_type": "code",
   "execution_count": 5,
   "metadata": {},
   "outputs": [],
   "source": [
    "#Define files & data pathway\n",
    "patient_code = 'patient1_calibration'\n",
    "patient_split_dir = '/Volumes/UCDN/Santiago_Guardo/data/split'\n",
    "utility_dir = '/Volumes/UCDN/Santiago_Guardo/data/utility'\n",
    "utility_analysis = '/Volumes/UCDN/Santiago_Guardo/data/utility/split_CRDM_analysis.csv'\n",
    "parameters = pd.read_csv(utility_analysis)\n"
   ]
  },
  {
   "cell_type": "code",
   "execution_count": 10,
   "metadata": {},
   "outputs": [
    {
     "name": "stdout",
     "output_type": "stream",
     "text": [
      "alpha_pos: 0.1286154715090123\n",
      "alpha_neg: 0.415047662498603\n",
      "beta_pos: -0.3918035142034978\n",
      "beta_pos: 4.167\n"
     ]
    }
   ],
   "source": [
    "\n",
    "#Define the parameter values for the given participant. \n",
    "filtered_parameters = parameters[parameters['subject'] == patient_code]\n",
    "\n",
    "# Create alpha_pos and alpha_neg variables\n",
    "alpha_pos = filtered_parameters.loc[filtered_parameters['domain'] == 'gain', 'alpha'].values[0]\n",
    "alpha_neg = filtered_parameters.loc[filtered_parameters['domain'] == 'loss', 'alpha'].values[0]\n",
    "\n",
    "beta_pos = filtered_parameters.loc[filtered_parameters['domain'] == 'gain', 'beta'].values[0]\n",
    "beta_neg = filtered_parameters.loc[filtered_parameters['domain'] == 'loss', 'beta'].values[0]\n",
    "\n",
    "print(\"alpha_pos:\", alpha_pos)\n",
    "print(\"alpha_neg:\", alpha_neg)\n",
    "\n",
    "print(\"beta_pos:\", beta_pos)\n",
    "print(\"beta_pos:\", beta_neg)\n",
    "\n"
   ]
  }
 ],
 "metadata": {
  "kernelspec": {
   "display_name": "Python 3",
   "language": "python",
   "name": "python3"
  },
  "language_info": {
   "codemirror_mode": {
    "name": "ipython",
    "version": 3
   },
   "file_extension": ".py",
   "mimetype": "text/x-python",
   "name": "python",
   "nbconvert_exporter": "python",
   "pygments_lexer": "ipython3",
   "version": "3.9.5"
  },
  "orig_nbformat": 4,
  "vscode": {
   "interpreter": {
    "hash": "aee8b7b246df8f9039afb4144a1f6fd8d2ca17a180786b69acc140d282b71a49"
   }
  }
 },
 "nbformat": 4,
 "nbformat_minor": 2
}
