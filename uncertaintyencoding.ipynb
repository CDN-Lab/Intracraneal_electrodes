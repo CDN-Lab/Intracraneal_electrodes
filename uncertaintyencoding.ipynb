{
 "cells": [
  {
   "attachments": {},
   "cell_type": "markdown",
   "metadata": {},
   "source": [
    "# Choice Set space for Neural Data\n",
    "\n",
    " The idea is to create a choice set that: samples the same SV difference (+ - some variation) with different trials  "
   ]
  },
  {
   "cell_type": "code",
   "execution_count": null,
   "metadata": {},
   "outputs": [],
   "source": [
    "#Import the relevant libraries\n",
    "import pandas as pd\n",
    "import os\n",
    "import matplotlib.pyplot as plt\n",
    "import numpy as np\n",
    "pd.options.display.max_rows = 999"
   ]
  },
  {
   "attachments": {},
   "cell_type": "markdown",
   "metadata": {},
   "source": [
    "# 1. Input: patient's alpha and beta parameters"
   ]
  },
  {
   "cell_type": "code",
   "execution_count": null,
   "metadata": {},
   "outputs": [],
   "source": [
    "#Define files & data pathway\n",
    "patient_code = 'patient1_calibration'\n",
    "patient_split_dir = '/Volumes/UCDN/Santiago_Guardo/data/split'\n",
    "utility_dir = '/Volumes/UCDN/Santiago_Guardo/data/utility'\n",
    "utility_analysis = os.path.join(utility_dir,'utility_CRDM_analysis.csv')\n",
    "parameters = pd.read_csv('utility_analysis')\n",
    "\n",
    "#Define the parameter values for the given participant. \n",
    "filtered_parameters = parameters[parameters['subject'] == patient_code]\n",
    "alpha = filtered_parameters['alpha'].values[0]\n",
    "beta = filtered_parameters['beta'].values[0]\n",
    "gamma = filtered_parameters['gamma'].values[0]\n",
    "\n",
    "print (\"alpha: \" + str(alpha))\n",
    "print (\"beta: \" + str(beta))\n",
    "print (\"gamma: \" + str(gamma))\n",
    "\n"
   ]
  }
 ],
 "metadata": {
  "kernelspec": {
   "display_name": "Python 3",
   "language": "python",
   "name": "python3"
  },
  "language_info": {
   "codemirror_mode": {
    "name": "ipython",
    "version": 3
   },
   "file_extension": ".py",
   "mimetype": "text/x-python",
   "name": "python",
   "nbconvert_exporter": "python",
   "pygments_lexer": "ipython3",
   "version": "3.9.5"
  },
  "orig_nbformat": 4,
  "vscode": {
   "interpreter": {
    "hash": "aee8b7b246df8f9039afb4144a1f6fd8d2ca17a180786b69acc140d282b71a49"
   }
  }
 },
 "nbformat": 4,
 "nbformat_minor": 2
}
