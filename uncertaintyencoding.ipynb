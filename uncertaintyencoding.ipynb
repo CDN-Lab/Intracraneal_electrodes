{
 "cells": [
  {
   "attachments": {},
   "cell_type": "markdown",
   "metadata": {},
   "source": [
    "# Choice Set space for Neural Data\n",
    "\n",
    " The idea is to create a choice set that: samples the same SV difference (+ - some variation) with different trials  "
   ]
  },
  {
   "cell_type": "code",
   "execution_count": 11,
   "metadata": {},
   "outputs": [],
   "source": [
    "#Import the relevant libraries\n",
    "import pandas as pd\n",
    "import os\n",
    "import matplotlib.pyplot as plt\n",
    "import numpy as np\n",
    "pd.options.display.max_rows = 999\n",
    "pd.options.display.max_columns = 999"
   ]
  },
  {
   "attachments": {},
   "cell_type": "markdown",
   "metadata": {},
   "source": [
    "# 1. Input: patient's alpha and beta parameters"
   ]
  },
  {
   "cell_type": "code",
   "execution_count": 12,
   "metadata": {},
   "outputs": [
    {
     "data": {
      "text/html": [
       "<div>\n",
       "<style scoped>\n",
       "    .dataframe tbody tr th:only-of-type {\n",
       "        vertical-align: middle;\n",
       "    }\n",
       "\n",
       "    .dataframe tbody tr th {\n",
       "        vertical-align: top;\n",
       "    }\n",
       "\n",
       "    .dataframe thead th {\n",
       "        text-align: right;\n",
       "    }\n",
       "</style>\n",
       "<table border=\"1\" class=\"dataframe\">\n",
       "  <thead>\n",
       "    <tr style=\"text-align: right;\">\n",
       "      <th></th>\n",
       "      <th>Unnamed: 0</th>\n",
       "      <th>subject</th>\n",
       "      <th>task</th>\n",
       "      <th>domain</th>\n",
       "      <th>response_rate</th>\n",
       "      <th>percent_lottery</th>\n",
       "      <th>percent_risk</th>\n",
       "      <th>percent_ambiguity</th>\n",
       "      <th>conf_1</th>\n",
       "      <th>conf_2</th>\n",
       "      <th>conf_3</th>\n",
       "      <th>conf_4</th>\n",
       "      <th>negLL</th>\n",
       "      <th>gamma</th>\n",
       "      <th>beta</th>\n",
       "      <th>alpha</th>\n",
       "      <th>at_bound</th>\n",
       "      <th>LL</th>\n",
       "      <th>LL0</th>\n",
       "      <th>AIC</th>\n",
       "      <th>BIC</th>\n",
       "      <th>R2</th>\n",
       "      <th>correct</th>\n",
       "      <th>prob_span</th>\n",
       "      <th>fig_fn</th>\n",
       "    </tr>\n",
       "  </thead>\n",
       "  <tbody>\n",
       "    <tr>\n",
       "      <th>0</th>\n",
       "      <td>0</td>\n",
       "      <td>patient1_calibration</td>\n",
       "      <td>CRDM</td>\n",
       "      <td>gain</td>\n",
       "      <td>0.839286</td>\n",
       "      <td>0.361702</td>\n",
       "      <td>0.333333</td>\n",
       "      <td>0.411765</td>\n",
       "      <td>1</td>\n",
       "      <td>5</td>\n",
       "      <td>23</td>\n",
       "      <td>18</td>\n",
       "      <td>31.032613</td>\n",
       "      <td>0.890861</td>\n",
       "      <td>-0.391804</td>\n",
       "      <td>0.128615</td>\n",
       "      <td>0</td>\n",
       "      <td>-31.032613</td>\n",
       "      <td>-32.577917</td>\n",
       "      <td>68.065227</td>\n",
       "      <td>69.765522</td>\n",
       "      <td>0.047434</td>\n",
       "      <td>0.617021</td>\n",
       "      <td>0.222320</td>\n",
       "      <td>patient1_calibration/crdm/patient1_calibration...</td>\n",
       "    </tr>\n",
       "    <tr>\n",
       "      <th>1</th>\n",
       "      <td>1</td>\n",
       "      <td>patient1_calibration</td>\n",
       "      <td>CRDM</td>\n",
       "      <td>loss</td>\n",
       "      <td>0.750000</td>\n",
       "      <td>0.547619</td>\n",
       "      <td>0.461538</td>\n",
       "      <td>0.687500</td>\n",
       "      <td>0</td>\n",
       "      <td>11</td>\n",
       "      <td>15</td>\n",
       "      <td>16</td>\n",
       "      <td>28.382892</td>\n",
       "      <td>0.135825</td>\n",
       "      <td>4.167000</td>\n",
       "      <td>0.415048</td>\n",
       "      <td>1</td>\n",
       "      <td>-28.382892</td>\n",
       "      <td>-29.112182</td>\n",
       "      <td>62.765783</td>\n",
       "      <td>64.241122</td>\n",
       "      <td>0.025051</td>\n",
       "      <td>0.523810</td>\n",
       "      <td>0.290221</td>\n",
       "      <td>patient1_calibration/crdm/patient1_calibration...</td>\n",
       "    </tr>\n",
       "  </tbody>\n",
       "</table>\n",
       "</div>"
      ],
      "text/plain": [
       "   Unnamed: 0               subject  task domain  response_rate  \\\n",
       "0           0  patient1_calibration  CRDM   gain       0.839286   \n",
       "1           1  patient1_calibration  CRDM   loss       0.750000   \n",
       "\n",
       "   percent_lottery  percent_risk  percent_ambiguity  conf_1  conf_2  conf_3  \\\n",
       "0         0.361702      0.333333           0.411765       1       5      23   \n",
       "1         0.547619      0.461538           0.687500       0      11      15   \n",
       "\n",
       "   conf_4      negLL     gamma      beta     alpha  at_bound         LL  \\\n",
       "0      18  31.032613  0.890861 -0.391804  0.128615         0 -31.032613   \n",
       "1      16  28.382892  0.135825  4.167000  0.415048         1 -28.382892   \n",
       "\n",
       "         LL0        AIC        BIC        R2   correct  prob_span  \\\n",
       "0 -32.577917  68.065227  69.765522  0.047434  0.617021   0.222320   \n",
       "1 -29.112182  62.765783  64.241122  0.025051  0.523810   0.290221   \n",
       "\n",
       "                                              fig_fn  \n",
       "0  patient1_calibration/crdm/patient1_calibration...  \n",
       "1  patient1_calibration/crdm/patient1_calibration...  "
      ]
     },
     "execution_count": 12,
     "metadata": {},
     "output_type": "execute_result"
    }
   ],
   "source": [
    "#Define files & data pathway\n",
    "patient_code = 'patient1_calibration'\n",
    "patient_split_dir = '/Volumes/UCDN/Santiago_Guardo/data/split'\n",
    "utility_dir = '/Volumes/UCDN/Santiago_Guardo/data/utility'\n",
    "utility_analysis = '/Volumes/UCDN/Santiago_Guardo/data/utility/split_CRDM_analysis.csv'\n",
    "parameters = pd.read_csv(utility_analysis)\n",
    "parameters"
   ]
  },
  {
   "cell_type": "code",
   "execution_count": 10,
   "metadata": {},
   "outputs": [
    {
     "name": "stdout",
     "output_type": "stream",
     "text": [
      "alpha_pos: 0.1286154715090123\n",
      "alpha_neg: 0.415047662498603\n",
      "beta_pos: -0.3918035142034978\n",
      "beta_pos: 4.167\n"
     ]
    }
   ],
   "source": [
    "\n",
    "#Define the parameter values for the given participant. \n",
    "filtered_parameters = parameters[parameters['subject'] == patient_code]\n",
    "\n",
    "# Create alpha_pos and alpha_neg variables\n",
    "alpha_pos = filtered_parameters.loc[filtered_parameters['domain'] == 'gain', 'alpha'].values[0]\n",
    "alpha_neg = filtered_parameters.loc[filtered_parameters['domain'] == 'loss', 'alpha'].values[0]\n",
    "\n",
    "beta_pos = filtered_parameters.loc[filtered_parameters['domain'] == 'gain', 'beta'].values[0]\n",
    "beta_neg = filtered_parameters.loc[filtered_parameters['domain'] == 'loss', 'beta'].values[0]\n",
    "\n",
    "print(\"alpha_pos:\", alpha_pos)\n",
    "print(\"alpha_neg:\", alpha_neg)\n",
    "\n",
    "print(\"beta_pos:\", beta_pos)\n",
    "print(\"beta_pos:\", beta_neg)\n",
    "\n"
   ]
  }
 ],
 "metadata": {
  "kernelspec": {
   "display_name": "Python 3",
   "language": "python",
   "name": "python3"
  },
  "language_info": {
   "codemirror_mode": {
    "name": "ipython",
    "version": 3
   },
   "file_extension": ".py",
   "mimetype": "text/x-python",
   "name": "python",
   "nbconvert_exporter": "python",
   "pygments_lexer": "ipython3",
   "version": "3.9.5"
  },
  "orig_nbformat": 4,
  "vscode": {
   "interpreter": {
    "hash": "aee8b7b246df8f9039afb4144a1f6fd8d2ca17a180786b69acc140d282b71a49"
   }
  }
 },
 "nbformat": 4,
 "nbformat_minor": 2
}
