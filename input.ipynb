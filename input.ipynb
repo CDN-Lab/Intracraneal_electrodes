{
 "cells": [
  {
   "attachments": {},
   "cell_type": "markdown",
   "metadata": {},
   "source": [
    "# 1. Input: \n",
    "- Patient's RAW data\n",
    "\n",
    "- Parameters from the utility model"
   ]
  },
  {
   "cell_type": "code",
   "execution_count": 1,
   "metadata": {},
   "outputs": [],
   "source": [
    "import pandas as pd\n",
    "import os\n",
    "#import matplotlib.pyplot as plt\n",
    "import numpy as np"
   ]
  },
  {
   "cell_type": "code",
   "execution_count": 2,
   "metadata": {},
   "outputs": [
    {
     "name": "stdout",
     "output_type": "stream",
     "text": [
      "loading fn: /Volumes/UCDN/Santiago_Guardo/data/split/patient1_calibration/crdm/patient1_calibration_crdm.csv\n",
      "loading fn: /Volumes/UCDN/Santiago_Guardo/data/utility/split_CRDM_analysis.csv\n"
     ]
    }
   ],
   "source": [
    "#path= 'Z:/Santiago_Guardo/data' #Specify where the data is stored in the FileShare. This is for my Laptop\n",
    "\n",
    "#Path to the data files\n",
    "path = '/Volumes/UCDN/Santiago_Guardo/data' #MAC path to the File share\n",
    "patient_code = 'patient1_calibration' #Specify the patient's code\n",
    "patient_split_dir = os.path.join(path,'split') \n",
    "patient_trials = os.path.join(patient_split_dir,'{}/crdm/{}_crdm.csv').format(patient_code,patient_code) #This is the psychopy output CSV\n",
    "trials = pd.read_csv(patient_trials)\n",
    "#Path to the utility model data\n",
    "utility_dir = os.path.join(path,'utility')\n",
    "utility_analysis = os.path.join(utility_dir,'split_CRDM_analysis.csv')\n",
    "parameters = pd.read_csv(utility_analysis)\n",
    "\n",
    "print('loading fn: {}'.format(patient_trials))\n",
    "print('loading fn: {}'.format(utility_analysis))\n",
    "\n",
    "p_options = trials['crdm_lott_p'].unique()/100\n",
    "p_options = p_options[~np.isnan(p_options)]  # Remove nan values ~is a logical NOT operator\n",
    "p_options = p_options.tolist()  # Do we want p_options to be an array or a list? Ask Ricardo \n",
    "p_options = sorted(p_options, reverse=True)"
   ]
  },
  {
   "attachments": {},
   "cell_type": "markdown",
   "metadata": {},
   "source": [
    "# 2. Creating code to automate the crdm_img files and the crdm_win_side "
   ]
  },
  {
   "cell_type": "code",
   "execution_count": 3,
   "metadata": {},
   "outputs": [
    {
     "name": "stdout",
     "output_type": "stream",
     "text": [
      "{75: ['risk_blue_75.bmp', 'risk_red_75.bmp'], 50: ['risk_blue_50.bmp', 'risk_red_50.bmp', 'ambig_50.bmp'], 38: ['risk_blue_38.bmp', 'risk_red_38.bmp'], 25: ['risk_blue_25.bmp', 'risk_red_25.bmp'], 13: ['risk_red_13.bmp', 'risk_blue_13.bmp']}\n",
      "{24: ['ambig_24.bmp'], 50: ['risk_blue_50.bmp', 'risk_red_50.bmp', 'ambig_50.bmp'], 74: ['ambig_74.bmp']}\n"
     ]
    }
   ],
   "source": [
    "#We define the list of image filenames. \n",
    "images = np.array(['ambig_74.bmp', 'risk_blue_75.bmp', 'risk_blue_25.bmp',\n",
    "       'risk_red_75.bmp', 'risk_red_13.bmp', 'risk_blue_50.bmp',\n",
    "       'risk_red_50.bmp', 'risk_red_25.bmp', 'risk_blue_38.bmp',\n",
    "       'risk_blue_13.bmp', 'risk_red_38.bmp', 'ambig_50.bmp',\n",
    "       'ambig_24.bmp'])\n",
    "\n",
    "p_options_100 = [int(p * 100) for p in p_options] #We define the probabilities as integers. This is to be consistent with the output csv format\n",
    "risk_images = {} #Empty dict to store the results. \n",
    "\n",
    "for p in p_options_100: #Iterate through each probability\n",
    "    #For each probability value, we start with an empty list named \n",
    "    # matching_images to hold the filenames that match the current probability \n",
    "    matching_images = [img for img in images if isinstance(img, str) and f\"_{p}\" in img]\n",
    "    #For each image filename, we check if it's a string \n",
    "    # and if the formatted probability (like \"_75\") is present in the filename.\n",
    "    #If both conditions are true, the image filename is added to the list. \n",
    "    risk_images[p] = matching_images #After iterating through the file names,we assign the list\n",
    "    #to the risk_images dictionary using p as a key. \n",
    "\n",
    "print(risk_images)\n",
    "\n",
    "amb_options = [0.24, 0.5, 0.74]\n",
    "amb_options_100 = [int(a * 100) for a in amb_options]\n",
    "amb_images = {}\n",
    "\n",
    "for a in amb_options_100:\n",
    "    matching_images = [img for img in images if isinstance(img, str) and f\"_{a}\" in img]\n",
    "    amb_images[a] = matching_images\n",
    "\n",
    "print(amb_images)"
   ]
  }
 ],
 "metadata": {
  "kernelspec": {
   "display_name": "base",
   "language": "python",
   "name": "python3"
  },
  "language_info": {
   "codemirror_mode": {
    "name": "ipython",
    "version": 3
   },
   "file_extension": ".py",
   "mimetype": "text/x-python",
   "name": "python",
   "nbconvert_exporter": "python",
   "pygments_lexer": "ipython3",
   "version": "3.9.12"
  },
  "orig_nbformat": 4,
  "vscode": {
   "interpreter": {
    "hash": "673c08dd088f611ad0eb064ac970f1525bf42ccd045b37f5b0c4544adbcb1da6"
   }
  }
 },
 "nbformat": 4,
 "nbformat_minor": 2
}
