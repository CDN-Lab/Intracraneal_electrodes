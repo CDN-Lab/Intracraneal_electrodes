{
 "cells": [
  {
   "attachments": {},
   "cell_type": "markdown",
   "metadata": {},
   "source": [
    "# 1. Input: \n",
    "- Patient's RAW data\n",
    "\n",
    "- Parameters from the utility model"
   ]
  },
  {
   "cell_type": "code",
   "execution_count": 1,
   "metadata": {},
   "outputs": [],
   "source": [
    "import pandas as pd\n",
    "import os\n",
    "#import matplotlib.pyplot as plt\n",
    "#import numpy as np"
   ]
  },
  {
   "cell_type": "code",
   "execution_count": 2,
   "metadata": {},
   "outputs": [
    {
     "name": "stdout",
     "output_type": "stream",
     "text": [
      "loading fn: /Volumes/UCDN/Santiago_Guardo/data/split/patient1_calibration/crdm/patient1_calibration_crdm.csv\n",
      "loading fn: /Volumes/UCDN/Santiago_Guardo/data/utility/split_CRDM_analysis.csv\n"
     ]
    }
   ],
   "source": [
    "#path= 'Z:/Santiago_Guardo/data' #Specify where the data is stored in the FileShare. This is for my Laptop\n",
    "\n",
    "#Path to the data files\n",
    "path = '/Volumes/UCDN/Santiago_Guardo/data' #MAC path to the File share\n",
    "patient_code = 'patient1_calibration' #Specify the patient's code\n",
    "patient_split_dir = os.path.join(path,'split') \n",
    "patient_trials = os.path.join(patient_split_dir,'{}/crdm/{}_crdm.csv').format(patient_code,patient_code) #This is the psychopy output CSV\n",
    "\n",
    "#Path to the utility model data\n",
    "utility_dir = os.path.join(path,'utility')\n",
    "utility_analysis = os.path.join(utility_dir,'split_CRDM_analysis.csv')\n",
    "parameters = pd.read_csv(utility_analysis)\n",
    "\n",
    "print('loading fn: {}'.format(patient_trials))\n",
    "print('loading fn: {}'.format(utility_analysis))"
   ]
  }
 ],
 "metadata": {
  "kernelspec": {
   "display_name": "base",
   "language": "python",
   "name": "python3"
  },
  "language_info": {
   "codemirror_mode": {
    "name": "ipython",
    "version": 3
   },
   "file_extension": ".py",
   "mimetype": "text/x-python",
   "name": "python",
   "nbconvert_exporter": "python",
   "pygments_lexer": "ipython3",
   "version": "3.9.12"
  },
  "orig_nbformat": 4,
  "vscode": {
   "interpreter": {
    "hash": "673c08dd088f611ad0eb064ac970f1525bf42ccd045b37f5b0c4544adbcb1da6"
   }
  }
 },
 "nbformat": 4,
 "nbformat_minor": 2
}
